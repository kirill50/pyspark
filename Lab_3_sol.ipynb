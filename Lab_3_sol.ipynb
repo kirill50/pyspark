{
 "cells": [
  {
   "cell_type": "code",
   "execution_count": 1,
   "metadata": {},
   "outputs": [],
   "source": [
    "try:\n",
    "    sc.stop()\n",
    "except:\n",
    "    pass"
   ]
  },
  {
   "cell_type": "code",
   "execution_count": 2,
   "metadata": {},
   "outputs": [
    {
     "name": "stdout",
     "output_type": "stream",
     "text": [
      "Welcome to\n",
      "      ____              __\n",
      "     / __/__  ___ _____/ /__\n",
      "    _\\ \\/ _ \\/ _ `/ __/  '_/\n",
      "   /__ / .__/\\_,_/_/ /_/\\_\\   version 2.4.7\n",
      "      /_/\n",
      "\n",
      "Using Python version 3.6.5 (default, Apr 29 2018 16:14:56)\n",
      "SparkSession available as 'spark'.\n"
     ]
    }
   ],
   "source": [
    "import json\n",
    "import os\n",
    "import subprocess\n",
    "import sys\n",
    "\n",
    "os.environ[\"PYSPARK_PYTHON\"]='/opt/anaconda/envs/bd9/bin/python'\n",
    "os.environ[\"SPARK_HOME\"]='/usr/hdp/current/spark2-client'\n",
    "os.environ[\"PYSPARK_SUBMIT_ARGS\"]='--num-executors 2 pyspark-shell'\n",
    "\n",
    "spark_home = os.environ.get('SPARK_HOME', None)\n",
    "\n",
    "sys.path.insert(0, os.path.join(spark_home, 'python'))\n",
    "sys.path.insert(0, os.path.join(spark_home, 'python/lib/py4j-0.10.7-src.zip'))\n",
    "exec(open(os.path.join(spark_home, 'python/pyspark/shell.py')).read())"
   ]
  },
  {
   "cell_type": "code",
   "execution_count": 3,
   "metadata": {},
   "outputs": [],
   "source": [
    "from pyspark.sql import Row\n",
    "from pyspark.sql.types import *\n",
    "from pyspark.sql import functions as sf\n",
    "from pyspark.ml.feature import Tokenizer, HashingTF, IDF\n",
    "from pyspark.sql.types import StructType, StructField, IntegerType, StringType, ArrayType, MapType, DoubleType\n",
    "\n",
    "import re\n",
    "import numpy as np\n",
    "import pandas as pd\n",
    "\n",
    "spark.conf.set('spark.sql.execution.arrow.enabled', 'false')"
   ]
  },
  {
   "cell_type": "code",
   "execution_count": 4,
   "metadata": {},
   "outputs": [
    {
     "data": {
      "text/html": [
       "\n",
       "            <div>\n",
       "                <p><b>SparkSession - in-memory</b></p>\n",
       "                \n",
       "        <div>\n",
       "            <p><b>SparkContext</b></p>\n",
       "\n",
       "            <p><a href=\"http://spark-de-master-5.newprolab.com:4041\">Spark UI</a></p>\n",
       "\n",
       "            <dl>\n",
       "              <dt>Version</dt>\n",
       "                <dd><code>v2.4.7</code></dd>\n",
       "              <dt>Master</dt>\n",
       "                <dd><code>yarn</code></dd>\n",
       "              <dt>AppName</dt>\n",
       "                <dd><code>pyspark-shell</code></dd>\n",
       "            </dl>\n",
       "        </div>\n",
       "        \n",
       "            </div>\n",
       "        "
      ],
      "text/plain": [
       "<pyspark.sql.session.SparkSession at 0x7f6e0cceb048>"
      ]
     },
     "execution_count": 4,
     "metadata": {},
     "output_type": "execute_result"
    }
   ],
   "source": [
    "spark"
   ]
  },
  {
   "cell_type": "markdown",
   "metadata": {},
   "source": [
    "## Исследуем данные"
   ]
  },
  {
   "cell_type": "code",
   "execution_count": 5,
   "metadata": {},
   "outputs": [],
   "source": [
    "# USERS PURCHASES\n",
    "\n",
    "schema = StructType([StructField(\"user_id\", IntegerType()),\n",
    "                    StructField(\"item_id\", IntegerType()),\n",
    "                    StructField(\"purchase\", DoubleType())])\n",
    "\n",
    "df_train = spark.read.csv('/labs/slaba03/laba03_train.csv', header= True, schema=schema)\n",
    "test = spark.read.csv('/labs/slaba03/laba03_test.csv', header= True, schema=schema)\n",
    "\n",
    "df_views = spark.read.csv('/labs/slaba03/laba03_views_programmes.csv', header= True)\n",
    "df_items = spark.read.csv('/labs/slaba03/laba03_items.csv', header= True, sep= '\\t')"
   ]
  },
  {
   "cell_type": "code",
   "execution_count": 6,
   "metadata": {},
   "outputs": [
    {
     "name": "stdout",
     "output_type": "stream",
     "text": [
      "Num partitions  2\n",
      "Row count  5032624\n",
      "+-------+-------+--------+\n",
      "|user_id|item_id|purchase|\n",
      "+-------+-------+--------+\n",
      "|   1654|  74107|     0.0|\n",
      "|   1654|  89249|     0.0|\n",
      "|   1654|  99982|     0.0|\n",
      "|   1654|  89901|     0.0|\n",
      "|   1654| 100504|     0.0|\n",
      "+-------+-------+--------+\n",
      "only showing top 5 rows\n",
      "\n"
     ]
    }
   ],
   "source": [
    "print('Num partitions ',df_train.rdd.getNumPartitions())\n",
    "print('Row count ', df_train.count())\n",
    "df_train.show(5)"
   ]
  },
  {
   "cell_type": "code",
   "execution_count": 7,
   "metadata": {},
   "outputs": [
    {
     "name": "stdout",
     "output_type": "stream",
     "text": [
      "Num partitions  2\n",
      "Row count  2156840\n",
      "+-------+-------+--------+\n",
      "|user_id|item_id|purchase|\n",
      "+-------+-------+--------+\n",
      "|   1654|  94814|    null|\n",
      "|   1654|  93629|    null|\n",
      "+-------+-------+--------+\n",
      "only showing top 2 rows\n",
      "\n"
     ]
    }
   ],
   "source": [
    "print('Num partitions ', test.rdd.getNumPartitions())\n",
    "print('Row count ', test.count())\n",
    "test.show(2)"
   ]
  },
  {
   "cell_type": "code",
   "execution_count": 8,
   "metadata": {},
   "outputs": [
    {
     "name": "stdout",
     "output_type": "stream",
     "text": [
      "Num partitions  7\n",
      "Row count  20845607\n",
      "+-------+-------+----------+----------+---------+\n",
      "|user_id|item_id|  ts_start|    ts_end|item_type|\n",
      "+-------+-------+----------+----------+---------+\n",
      "|      0|7101053|1491409931|1491411600|     live|\n",
      "|      0|7101054|1491412481|1491451571|     live|\n",
      "+-------+-------+----------+----------+---------+\n",
      "only showing top 2 rows\n",
      "\n"
     ]
    }
   ],
   "source": [
    "print('Num partitions ', df_views.rdd.getNumPartitions())\n",
    "print('Row count ', df_views.count())\n",
    "df_views.show(2)"
   ]
  },
  {
   "cell_type": "code",
   "execution_count": 9,
   "metadata": {},
   "outputs": [
    {
     "name": "stdout",
     "output_type": "stream",
     "text": [
      "Num partitions  2\n",
      "Row count  635568\n",
      "-RECORD 0--------------------------------------------------------------------\n",
      " item_id                     | 65667                                         \n",
      " channel_id                  | null                                          \n",
      " datetime_availability_start | 1970-01-01T00:00:00Z                          \n",
      " datetime_availability_stop  | 2018-01-01T00:00:00Z                          \n",
      " datetime_show_start         | null                                          \n",
      " datetime_show_stop          | null                                          \n",
      " content_type                | 1                                             \n",
      " title                       | на пробах только девушки (all girl auditions) \n",
      " year                        | 2013.0                                        \n",
      " genres                      | Эротика                                       \n",
      " region_id                   | null                                          \n",
      "only showing top 1 row\n",
      "\n"
     ]
    }
   ],
   "source": [
    "print('Num partitions ', df_items.rdd.getNumPartitions())\n",
    "print('Row count ', df_items.count())\n",
    "df_items.show(1, vertical=True, truncate=False)"
   ]
  },
  {
   "cell_type": "code",
   "execution_count": 10,
   "metadata": {},
   "outputs": [],
   "source": [
    "spark.conf.set(\"spark.sql.shuffle.partitions\", 200)"
   ]
  },
  {
   "cell_type": "markdown",
   "metadata": {},
   "source": [
    "## Посмотрим какое кол-во человек из обучающей выборки делали покупки"
   ]
  },
  {
   "cell_type": "code",
   "execution_count": 11,
   "metadata": {},
   "outputs": [
    {
     "data": {
      "text/plain": [
       "1941"
      ]
     },
     "execution_count": 11,
     "metadata": {},
     "output_type": "execute_result"
    }
   ],
   "source": [
    "df_train.select('user_id').distinct().count()"
   ]
  },
  {
   "cell_type": "code",
   "execution_count": 12,
   "metadata": {},
   "outputs": [
    {
     "data": {
      "text/plain": [
       "1675"
      ]
     },
     "execution_count": 12,
     "metadata": {},
     "output_type": "execute_result"
    }
   ],
   "source": [
    "df_train[df_train['purchase'] == 1].select('user_id').distinct().count()"
   ]
  },
  {
   "cell_type": "markdown",
   "metadata": {},
   "source": [
    "### Посмотрим покупки одного пользователя¶"
   ]
  },
  {
   "cell_type": "code",
   "execution_count": 13,
   "metadata": {},
   "outputs": [
    {
     "name": "stdout",
     "output_type": "stream",
     "text": [
      "+-------+-------+--------+\n",
      "|user_id|item_id|purchase|\n",
      "+-------+-------+--------+\n",
      "|   1654|   9897|     1.0|\n",
      "|   1654|   7394|     1.0|\n",
      "|   1654|   9064|     1.0|\n",
      "|   1654|  73216|     1.0|\n",
      "|   1654|  88816|     1.0|\n",
      "+-------+-------+--------+\n",
      "\n"
     ]
    }
   ],
   "source": [
    "df_train[(df_train['user_id'] == 1654) & \n",
    "         (df_train['purchase'] == 1)].show(5)"
   ]
  },
  {
   "cell_type": "code",
   "execution_count": 14,
   "metadata": {},
   "outputs": [
    {
     "name": "stdout",
     "output_type": "stream",
     "text": [
      "-RECORD 0--------------------------------------------------------------------\n",
      " item_id                     | 7394                                          \n",
      " channel_id                  | null                                          \n",
      " datetime_availability_start | 1970-01-01T00:00:00Z                          \n",
      " datetime_availability_stop  | 2099-12-31T21:00:00Z                          \n",
      " datetime_show_start         | null                                          \n",
      " datetime_show_stop          | null                                          \n",
      " content_type                | 1                                             \n",
      " title                       | лиса и заяц                                   \n",
      " year                        | 1973.0                                        \n",
      " genres                      | Мультфильмы,Союзмультфильм,Наши               \n",
      " region_id                   | null                                          \n",
      "-RECORD 1--------------------------------------------------------------------\n",
      " item_id                     | 9064                                          \n",
      " channel_id                  | null                                          \n",
      " datetime_availability_start | 1970-01-01T00:00:00Z                          \n",
      " datetime_availability_stop  | 2018-01-01T00:00:00Z                          \n",
      " datetime_show_start         | null                                          \n",
      " datetime_show_stop          | null                                          \n",
      " content_type                | 1                                             \n",
      " title                       | настоящий детектив                            \n",
      " year                        | 2014.0                                        \n",
      " genres                      | null                                          \n",
      " region_id                   | null                                          \n",
      "-RECORD 2--------------------------------------------------------------------\n",
      " item_id                     | 9897                                          \n",
      " channel_id                  | null                                          \n",
      " datetime_availability_start | 1970-01-01T00:00:00Z                          \n",
      " datetime_availability_stop  | 2017-08-21T00:00:00Z                          \n",
      " datetime_show_start         | null                                          \n",
      " datetime_show_stop          | null                                          \n",
      " content_type                | 1                                             \n",
      " title                       | вместе                                        \n",
      " year                        | 2015.0                                        \n",
      " genres                      | null                                          \n",
      " region_id                   | null                                          \n",
      "-RECORD 3--------------------------------------------------------------------\n",
      " item_id                     | 73216                                         \n",
      " channel_id                  | null                                          \n",
      " datetime_availability_start | 1970-01-01T00:00:00Z                          \n",
      " datetime_availability_stop  | 2099-12-31T21:00:00Z                          \n",
      " datetime_show_start         | null                                          \n",
      " datetime_show_stop          | null                                          \n",
      " content_type                | 1                                             \n",
      " title                       | грузовичок лева                               \n",
      " year                        | 2014.0                                        \n",
      " genres                      | Наши,Для самых маленьких                      \n",
      " region_id                   | null                                          \n",
      "-RECORD 4--------------------------------------------------------------------\n",
      " item_id                     | 88816                                         \n",
      " channel_id                  | null                                          \n",
      " datetime_availability_start | 1970-01-01T00:00:00Z                          \n",
      " datetime_availability_stop  | 2099-12-31T21:00:00Z                          \n",
      " datetime_show_start         | null                                          \n",
      " datetime_show_stop          | null                                          \n",
      " content_type                | 1                                             \n",
      " title                       | альдабра. путешествие к таинственному острову \n",
      " year                        | 2016.0                                        \n",
      " genres                      | Приключения,Документальные,Зарубежные         \n",
      " region_id                   | null                                          \n",
      "\n"
     ]
    }
   ],
   "source": [
    "df_items[df_items['item_id'].isin([9897, 7394, 9064, 73216, 88816])]\\\n",
    "        .show(5, vertical=True, truncate=False)"
   ]
  },
  {
   "cell_type": "markdown",
   "metadata": {},
   "source": [
    "### Посмотрим, как распределены между собой метки классов"
   ]
  },
  {
   "cell_type": "code",
   "execution_count": 15,
   "metadata": {},
   "outputs": [
    {
     "data": {
      "text/plain": [
       "[Row(purchase=0.0, count=5021720), Row(purchase=1.0, count=10904)]"
      ]
     },
     "execution_count": 15,
     "metadata": {},
     "output_type": "execute_result"
    }
   ],
   "source": [
    "df_train.groupBy(\"purchase\").count().collect()"
   ]
  },
  {
   "cell_type": "markdown",
   "metadata": {},
   "source": [
    "### Train-Validation Split"
   ]
  },
  {
   "cell_type": "code",
   "execution_count": 16,
   "metadata": {},
   "outputs": [],
   "source": [
    "train = df_train.sampleBy(\"purchase\", fractions={0: 0.8, 1: 0.8}, seed=5757)\n",
    "\n",
    "valid = df_train.join(train, on=[\"user_id\", \"item_id\"], how=\"leftanti\")\n",
    "\n",
    "test = spark.read.csv('/labs/slaba03/laba03_test.csv', header= True, schema=schema)"
   ]
  },
  {
   "cell_type": "code",
   "execution_count": 17,
   "metadata": {},
   "outputs": [
    {
     "name": "stdout",
     "output_type": "stream",
     "text": [
      "+-------+-------+--------+\n",
      "|user_id|item_id|purchase|\n",
      "+-------+-------+--------+\n",
      "|   1654|  74107|     0.0|\n",
      "|   1654|  89249|     0.0|\n",
      "|   1654|  99982|     0.0|\n",
      "|   1654|  89901|     0.0|\n",
      "|   1654|  84350|     0.0|\n",
      "+-------+-------+--------+\n",
      "only showing top 5 rows\n",
      "\n"
     ]
    }
   ],
   "source": [
    "train.show(5)"
   ]
  },
  {
   "cell_type": "code",
   "execution_count": 18,
   "metadata": {},
   "outputs": [
    {
     "data": {
      "text/plain": [
       "4026845"
      ]
     },
     "execution_count": 18,
     "metadata": {},
     "output_type": "execute_result"
    }
   ],
   "source": [
    "train.count()"
   ]
  },
  {
   "cell_type": "code",
   "execution_count": 19,
   "metadata": {},
   "outputs": [
    {
     "name": "stdout",
     "output_type": "stream",
     "text": [
      "+-------+-------+--------+\n",
      "|user_id|item_id|purchase|\n",
      "+-------+-------+--------+\n",
      "|   1654|   7679|     0.0|\n",
      "|   1654|  67318|     0.0|\n",
      "| 510087|  10820|     0.0|\n",
      "| 510087|  67040|     0.0|\n",
      "| 510087|  72905|     0.0|\n",
      "+-------+-------+--------+\n",
      "only showing top 5 rows\n",
      "\n"
     ]
    }
   ],
   "source": [
    "valid.show(5)"
   ]
  },
  {
   "cell_type": "markdown",
   "metadata": {},
   "source": [
    "## Создадим фичи, которые отражают склонность к покупке пользователя и \"покупаемость\" item'а"
   ]
  },
  {
   "cell_type": "code",
   "execution_count": 20,
   "metadata": {},
   "outputs": [
    {
     "name": "stdout",
     "output_type": "stream",
     "text": [
      "+--------------+-------+\n",
      "|user_purchases|user_id|\n",
      "+--------------+-------+\n",
      "|           0.0| 901457|\n",
      "|           1.0| 927211|\n",
      "+--------------+-------+\n",
      "only showing top 2 rows\n",
      "\n"
     ]
    }
   ],
   "source": [
    "train_purchases = train.groupBy('user_id')\\\n",
    "                .sum().select(sf.col(\"sum(purchase)\").alias(\"user_purchases\"),\n",
    "                              sf.col(\"user_id\")).cache()\n",
    "\n",
    "train_purchases.show(2)"
   ]
  },
  {
   "cell_type": "code",
   "execution_count": 21,
   "metadata": {},
   "outputs": [
    {
     "name": "stdout",
     "output_type": "stream",
     "text": [
      "+--------------+-------+\n",
      "|item_purchases|item_id|\n",
      "+--------------+-------+\n",
      "|           2.0|  90019|\n",
      "|           1.0|   8638|\n",
      "+--------------+-------+\n",
      "only showing top 2 rows\n",
      "\n"
     ]
    }
   ],
   "source": [
    "item_purchases = train.groupBy('item_id')\\\n",
    "                        .sum().select(sf.col(\"sum(purchase)\").alias(\"item_purchases\"),\n",
    "                                      sf.col(\"item_id\")).cache()\n",
    "\n",
    "item_purchases.show(2)"
   ]
  },
  {
   "cell_type": "code",
   "execution_count": 22,
   "metadata": {},
   "outputs": [],
   "source": [
    "# Сколько было покупок у пользователя и сколько раз покупали item?\n",
    "train = train.join(train_purchases, on='user_id', how='left')\n",
    "valid = valid.join(train_purchases, on='user_id', how='left')\n",
    "test = test.join(train_purchases, on='user_id', how='left')\n",
    "\n",
    "train = train.join(item_purchases, on='item_id', how='left')\n",
    "valid = valid.join(item_purchases, on='item_id', how='left')\n",
    "test = test.join(item_purchases, on='item_id', how='left')"
   ]
  },
  {
   "cell_type": "code",
   "execution_count": 23,
   "metadata": {},
   "outputs": [
    {
     "name": "stdout",
     "output_type": "stream",
     "text": [
      "+-------------+-------+\n",
      "|user_attempts|user_id|\n",
      "+-------------+-------+\n",
      "|         2089| 754230|\n",
      "|         2058| 761341|\n",
      "+-------------+-------+\n",
      "only showing top 2 rows\n",
      "\n"
     ]
    }
   ],
   "source": [
    "train_user_attempts = train.groupBy('user_id').count().\\\n",
    "                                select(sf.col(\"count\").alias(\"user_attempts\"),\n",
    "                                       sf.col(\"user_id\")).cache()\n",
    "\n",
    "train_item_attempts = train.groupBy('item_id').count().\\\n",
    "                                select(sf.col(\"count\").alias(\"item_attempts\"),\n",
    "                                       sf.col(\"item_id\")).cache()\n",
    "\n",
    "train_user_attempts.show(2)"
   ]
  },
  {
   "cell_type": "code",
   "execution_count": 24,
   "metadata": {},
   "outputs": [
    {
     "name": "stdout",
     "output_type": "stream",
     "text": [
      "+-------------+-------+\n",
      "|item_attempts|item_id|\n",
      "+-------------+-------+\n",
      "|         1117|  95940|\n",
      "|         1067|  74757|\n",
      "+-------------+-------+\n",
      "only showing top 2 rows\n",
      "\n"
     ]
    }
   ],
   "source": [
    "train_item_attempts.show(2)"
   ]
  },
  {
   "cell_type": "code",
   "execution_count": 25,
   "metadata": {},
   "outputs": [],
   "source": [
    "train = train.join(train_user_attempts, on='user_id', how='left')\n",
    "valid = valid.join(train_user_attempts, on='user_id', how='left')\n",
    "test = test.join(train_user_attempts, on='user_id', how='left')\n",
    "\n",
    "train = train.join(train_item_attempts, on='item_id', how='left')\n",
    "valid = valid.join(train_item_attempts, on='item_id', how='left')\n",
    "test = test.join(train_item_attempts, on='item_id', how='left')"
   ]
  },
  {
   "cell_type": "code",
   "execution_count": 26,
   "metadata": {},
   "outputs": [
    {
     "name": "stdout",
     "output_type": "stream",
     "text": [
      "+-------+-------+--------+--------------+--------------+-------------+-------------+\n",
      "|item_id|user_id|purchase|user_purchases|item_purchases|user_attempts|item_attempts|\n",
      "+-------+-------+--------+--------------+--------------+-------------+-------------+\n",
      "|  94814|   1654|    null|           4.0|           0.0|         2014|         1097|\n",
      "|  93629|   1654|    null|           4.0|           4.0|         2014|         1099|\n",
      "+-------+-------+--------+--------------+--------------+-------------+-------------+\n",
      "only showing top 2 rows\n",
      "\n"
     ]
    }
   ],
   "source": [
    "test.show(2)"
   ]
  },
  {
   "cell_type": "code",
   "execution_count": 27,
   "metadata": {},
   "outputs": [],
   "source": [
    "train = train.withColumn('user_addict', sf.col('user_purchases') / sf.col('user_attempts'))\n",
    "valid = valid.withColumn('user_addict', sf.col('user_purchases') / sf.col('user_attempts'))\n",
    "test = test.withColumn('user_addict', sf.col('user_purchases') / sf.col('user_attempts'))"
   ]
  },
  {
   "cell_type": "code",
   "execution_count": 28,
   "metadata": {},
   "outputs": [],
   "source": [
    "train = train.withColumn('item_addict', sf.col('item_purchases') / sf.col('item_attempts'))\n",
    "valid = valid.withColumn('item_addict', sf.col('item_purchases') / sf.col('item_attempts'))\n",
    "test = test.withColumn('item_addict', sf.col('item_purchases') / sf.col('item_attempts'))"
   ]
  },
  {
   "cell_type": "code",
   "execution_count": 29,
   "metadata": {},
   "outputs": [
    {
     "name": "stdout",
     "output_type": "stream",
     "text": [
      "+-------+-------+--------+--------------+--------------+-------------+-------------+--------------------+--------------------+\n",
      "|item_id|user_id|purchase|user_purchases|item_purchases|user_attempts|item_attempts|         user_addict|         item_addict|\n",
      "+-------+-------+--------+--------------+--------------+-------------+-------------+--------------------+--------------------+\n",
      "|  74107|   1654|     0.0|           4.0|           0.0|         2014|         1090|0.001986097318768...|                 0.0|\n",
      "|  89249|   1654|     0.0|           4.0|           2.0|         2014|         1090|0.001986097318768...|0.001834862385321101|\n",
      "+-------+-------+--------+--------------+--------------+-------------+-------------+--------------------+--------------------+\n",
      "only showing top 2 rows\n",
      "\n"
     ]
    }
   ],
   "source": [
    "train.show(2)"
   ]
  },
  {
   "cell_type": "code",
   "execution_count": 30,
   "metadata": {},
   "outputs": [],
   "source": [
    "# На всякий случай заполняем пропуски\n",
    "test = test.na.fill(0)\n",
    "train = train.na.fill(0)\n",
    "valid = valid.na.fill(0)"
   ]
  },
  {
   "cell_type": "code",
   "execution_count": 31,
   "metadata": {},
   "outputs": [
    {
     "data": {
      "text/plain": [
       "DataFrame[item_attempts: bigint, item_id: int]"
      ]
     },
     "execution_count": 31,
     "metadata": {},
     "output_type": "execute_result"
    }
   ],
   "source": [
    "train_purchases.unpersist()\n",
    "item_purchases.unpersist()\n",
    "train_user_attempts.unpersist()\n",
    "train_item_attempts.unpersist()"
   ]
  },
  {
   "cell_type": "code",
   "execution_count": 32,
   "metadata": {},
   "outputs": [],
   "source": [
    "from pyspark.ml.feature import VectorAssembler\n",
    "# Выбираю колонки, которые войдут в features для GBT\n",
    "cols = ['item_purchases', 'user_purchases', 'user_addict', 'item_addict']\n",
    "assembler = VectorAssembler(inputCols=cols, outputCol=\"features\")\n",
    "\n",
    "train_data = assembler.transform(train).cache()\n",
    "valid_data = assembler.transform(valid)\n",
    "test_data = assembler.transform(test)"
   ]
  },
  {
   "cell_type": "code",
   "execution_count": 33,
   "metadata": {},
   "outputs": [],
   "source": [
    "from pyspark.ml import Pipeline\n",
    "from pyspark.ml.classification import GBTClassifier\n",
    "\n",
    "gbt = GBTClassifier(labelCol=\"purchase\")\n",
    "\n",
    "pipeline = Pipeline(stages=[gbt])"
   ]
  },
  {
   "cell_type": "code",
   "execution_count": 34,
   "metadata": {},
   "outputs": [],
   "source": [
    "from pyspark.ml.evaluation import BinaryClassificationEvaluator\n",
    "\n",
    "evaluator = BinaryClassificationEvaluator(labelCol=\"purchase\", metricName='areaUnderROC')\n",
    "# score = evaluator.evaluate(predictions_valid)\n",
    "# score"
   ]
  },
  {
   "cell_type": "code",
   "execution_count": 35,
   "metadata": {},
   "outputs": [],
   "source": [
    "from pyspark.ml.tuning import CrossValidator, ParamGridBuilder"
   ]
  },
  {
   "cell_type": "code",
   "execution_count": 36,
   "metadata": {},
   "outputs": [],
   "source": [
    "paramGrid = ParamGridBuilder().addGrid(gbt.maxDepth, [3, 4])\\\n",
    "                              .addGrid(gbt.minInstancesPerNode, [2, 3])\\\n",
    "                              .addGrid(gbt.maxBins, [50, 55])\\\n",
    "                              .build()"
   ]
  },
  {
   "cell_type": "code",
   "execution_count": 37,
   "metadata": {},
   "outputs": [],
   "source": [
    "crossval = CrossValidator(estimator=pipeline, estimatorParamMaps=paramGrid,\n",
    "                              evaluator=evaluator, numFolds=3, parallelism=3)"
   ]
  },
  {
   "cell_type": "code",
   "execution_count": 38,
   "metadata": {},
   "outputs": [],
   "source": [
    "cv_model = crossval.fit(train_data)"
   ]
  },
  {
   "cell_type": "code",
   "execution_count": 39,
   "metadata": {},
   "outputs": [
    {
     "data": {
      "text/plain": [
       "[0.9191091461891099,\n",
       " 0.919282972638775,\n",
       " 0.9190849339367069,\n",
       " 0.9210114068350821,\n",
       " 0.9345468253944449,\n",
       " 0.9339005288112304,\n",
       " 0.9346320848739754,\n",
       " 0.9339005288112302]"
      ]
     },
     "execution_count": 39,
     "metadata": {},
     "output_type": "execute_result"
    }
   ],
   "source": [
    "cv_model.avgMetrics"
   ]
  },
  {
   "cell_type": "code",
   "execution_count": 40,
   "metadata": {},
   "outputs": [
    {
     "data": {
      "text/plain": [
       "{Param(parent='GBTClassifier_ac487a28726a', name='maxDepth', doc='Maximum depth of the tree. (>= 0) E.g., depth 0 means 1 leaf node; depth 1 means 1 internal node + 2 leaf nodes.'): 4,\n",
       " Param(parent='GBTClassifier_ac487a28726a', name='minInstancesPerNode', doc='Minimum number of instances each child must have after split. If a split causes the left or right child to have fewer than minInstancesPerNode, the split will be discarded as invalid. Should be >= 1.'): 3,\n",
       " Param(parent='GBTClassifier_ac487a28726a', name='maxBins', doc='Max number of bins for discretizing continuous features.  Must be >=2 and >= number of categories for any categorical feature.'): 50}"
      ]
     },
     "execution_count": 40,
     "metadata": {},
     "output_type": "execute_result"
    }
   ],
   "source": [
    "cv_model.getEstimatorParamMaps()[np.argmax(cv_model.avgMetrics)]"
   ]
  },
  {
   "cell_type": "code",
   "execution_count": 41,
   "metadata": {},
   "outputs": [],
   "source": [
    "predictions_valid = cv_model.transform(valid_data)"
   ]
  },
  {
   "cell_type": "code",
   "execution_count": 42,
   "metadata": {},
   "outputs": [
    {
     "data": {
      "text/plain": [
       "0.8928295148884524"
      ]
     },
     "execution_count": 42,
     "metadata": {},
     "output_type": "execute_result"
    }
   ],
   "source": [
    "evaluator.evaluate(predictions_valid)"
   ]
  },
  {
   "cell_type": "code",
   "execution_count": 43,
   "metadata": {},
   "outputs": [
    {
     "data": {
      "text/plain": [
       "DataFrame[item_id: int, user_id: int, purchase: double, user_purchases: double, item_purchases: double, user_attempts: bigint, item_attempts: bigint, user_addict: double, item_addict: double, features: vector]"
      ]
     },
     "execution_count": 43,
     "metadata": {},
     "output_type": "execute_result"
    }
   ],
   "source": [
    "train_data.unpersist()"
   ]
  },
  {
   "cell_type": "code",
   "execution_count": 44,
   "metadata": {},
   "outputs": [],
   "source": [
    "from pyspark.ml.classification import GBTClassifier\n",
    "\n",
    "gbt = GBTClassifier(labelCol=\"purchase\", maxDepth=4, minInstancesPerNode=3, maxBins=50)\n",
    "\n",
    "gbt_model = gbt.fit(train_data)\n",
    "predictions_valid = gbt_model.transform(valid_data)"
   ]
  },
  {
   "cell_type": "code",
   "execution_count": 45,
   "metadata": {},
   "outputs": [
    {
     "data": {
      "text/plain": [
       "SparseVector(4, {0: 0.4014, 1: 0.3427, 2: 0.121, 3: 0.1349})"
      ]
     },
     "execution_count": 45,
     "metadata": {},
     "output_type": "execute_result"
    }
   ],
   "source": [
    "gbt_model.featureImportances"
   ]
  },
  {
   "cell_type": "code",
   "execution_count": 46,
   "metadata": {},
   "outputs": [
    {
     "data": {
      "text/plain": [
       "0.8920894555767243"
      ]
     },
     "execution_count": 46,
     "metadata": {},
     "output_type": "execute_result"
    }
   ],
   "source": [
    "from pyspark.ml.evaluation import BinaryClassificationEvaluator\n",
    "\n",
    "evaluator = BinaryClassificationEvaluator(labelCol=\"purchase\", metricName='areaUnderROC')\n",
    "score = evaluator.evaluate(predictions_valid)\n",
    "score"
   ]
  },
  {
   "cell_type": "markdown",
   "metadata": {},
   "source": [
    "## Создадим фичу, используя жанры"
   ]
  },
  {
   "cell_type": "code",
   "execution_count": 47,
   "metadata": {},
   "outputs": [
    {
     "name": "stdout",
     "output_type": "stream",
     "text": [
      "-RECORD 0-------------------------------------------------------------------------------------------------------------\n",
      " item_id                     | 65667                                                                                  \n",
      " channel_id                  | null                                                                                   \n",
      " datetime_availability_start | 1970-01-01T00:00:00Z                                                                   \n",
      " datetime_availability_stop  | 2018-01-01T00:00:00Z                                                                   \n",
      " datetime_show_start         | null                                                                                   \n",
      " datetime_show_stop          | null                                                                                   \n",
      " content_type                | 1                                                                                      \n",
      " title                       | на пробах только девушки (all girl auditions)                                          \n",
      " year                        | 2013.0                                                                                 \n",
      " genres                      | Эротика                                                                                \n",
      " region_id                   | null                                                                                   \n",
      "-RECORD 1-------------------------------------------------------------------------------------------------------------\n",
      " item_id                     | 65669                                                                                  \n",
      " channel_id                  | null                                                                                   \n",
      " datetime_availability_start | 1970-01-01T00:00:00Z                                                                   \n",
      " datetime_availability_stop  | 2018-01-01T00:00:00Z                                                                   \n",
      " datetime_show_start         | null                                                                                   \n",
      " datetime_show_stop          | null                                                                                   \n",
      " content_type                | 1                                                                                      \n",
      " title                       | скуби ду: эротическая пародия (scooby doo: a xxx parody)                               \n",
      " year                        | 2011.0                                                                                 \n",
      " genres                      | Эротика                                                                                \n",
      " region_id                   | null                                                                                   \n",
      "-RECORD 2-------------------------------------------------------------------------------------------------------------\n",
      " item_id                     | 65668                                                                                  \n",
      " channel_id                  | null                                                                                   \n",
      " datetime_availability_start | 1970-01-01T00:00:00Z                                                                   \n",
      " datetime_availability_stop  | 2018-01-01T00:00:00Z                                                                   \n",
      " datetime_show_start         | null                                                                                   \n",
      " datetime_show_stop          | null                                                                                   \n",
      " content_type                | 1                                                                                      \n",
      " title                       | горячие девочки для горячих девочек (hot babes 4 hot babes)                            \n",
      " year                        | 2011.0                                                                                 \n",
      " genres                      | Эротика                                                                                \n",
      " region_id                   | null                                                                                   \n",
      "-RECORD 3-------------------------------------------------------------------------------------------------------------\n",
      " item_id                     | 65671                                                                                  \n",
      " channel_id                  | null                                                                                   \n",
      " datetime_availability_start | 1970-01-01T00:00:00Z                                                                   \n",
      " datetime_availability_stop  | 2018-01-01T00:00:00Z                                                                   \n",
      " datetime_show_start         | null                                                                                   \n",
      " datetime_show_stop          | null                                                                                   \n",
      " content_type                | 1                                                                                      \n",
      " title                       | соблазнительницы женатых мужчин (top heavy homewreckers)                               \n",
      " year                        | 2011.0                                                                                 \n",
      " genres                      | Эротика                                                                                \n",
      " region_id                   | null                                                                                   \n",
      "-RECORD 4-------------------------------------------------------------------------------------------------------------\n",
      " item_id                     | 65670                                                                                  \n",
      " channel_id                  | null                                                                                   \n",
      " datetime_availability_start | 1970-01-01T00:00:00Z                                                                   \n",
      " datetime_availability_stop  | 2018-01-01T00:00:00Z                                                                   \n",
      " datetime_show_start         | null                                                                                   \n",
      " datetime_show_stop          | null                                                                                   \n",
      " content_type                | 1                                                                                      \n",
      " title                       | секретные секс-материалы ii: темная секс пародия (the sex files ii: a dark xxx parody) \n",
      " year                        | 2010.0                                                                                 \n",
      " genres                      | Эротика                                                                                \n",
      " region_id                   | null                                                                                   \n",
      "-RECORD 5-------------------------------------------------------------------------------------------------------------\n",
      " item_id                     | 65809                                                                                  \n",
      " channel_id                  | null                                                                                   \n",
      " datetime_availability_start | 1970-01-01T00:00:00Z                                                                   \n",
      " datetime_availability_stop  | 2099-12-31T21:00:00Z                                                                   \n",
      " datetime_show_start         | null                                                                                   \n",
      " datetime_show_stop          | null                                                                                   \n",
      " content_type                | 1                                                                                      \n",
      " title                       | все о мужчинах                                                                         \n",
      " year                        | 2016.0                                                                                 \n",
      " genres                      | Комедии                                                                                \n",
      " region_id                   | null                                                                                   \n",
      "-RECORD 6-------------------------------------------------------------------------------------------------------------\n",
      " item_id                     | 65810                                                                                  \n",
      " channel_id                  | null                                                                                   \n",
      " datetime_availability_start | 1970-01-01T00:00:00Z                                                                   \n",
      " datetime_availability_stop  | 2099-12-31T21:00:00Z                                                                   \n",
      " datetime_show_start         | null                                                                                   \n",
      " datetime_show_stop          | null                                                                                   \n",
      " content_type                | 1                                                                                      \n",
      " title                       | 8 лучших свиданий (сурдоперевод)                                                       \n",
      " year                        | 2016.0                                                                                 \n",
      " genres                      | Комедии,Мелодрамы                                                                      \n",
      " region_id                   | null                                                                                   \n",
      "-RECORD 7-------------------------------------------------------------------------------------------------------------\n",
      " item_id                     | 326                                                                                    \n",
      " channel_id                  | null                                                                                   \n",
      " datetime_availability_start | 1970-01-01T00:00:00Z                                                                   \n",
      " datetime_availability_stop  | 2099-12-31T21:00:00Z                                                                   \n",
      " datetime_show_start         | null                                                                                   \n",
      " datetime_show_stop          | null                                                                                   \n",
      " content_type                | 1                                                                                      \n",
      " title                       | византия                                                                               \n",
      " year                        | 2012.0                                                                                 \n",
      " genres                      | Ужасы,Триллеры,Драмы,Фантастика,Зарубежные                                             \n",
      " region_id                   | null                                                                                   \n",
      "-RECORD 8-------------------------------------------------------------------------------------------------------------\n",
      " item_id                     | 336                                                                                    \n",
      " channel_id                  | null                                                                                   \n",
      " datetime_availability_start | 1970-01-01T00:00:00Z                                                                   \n",
      " datetime_availability_stop  | 2099-12-31T21:00:00Z                                                                   \n",
      " datetime_show_start         | null                                                                                   \n",
      " datetime_show_stop          | null                                                                                   \n",
      " content_type                | 1                                                                                      \n",
      " title                       | девственники, берегитесь!                                                              \n",
      " year                        | 2012.0                                                                                 \n",
      " genres                      | Ужасы,Комедии,Фантастика,Зарубежные                                                    \n",
      " region_id                   | null                                                                                   \n",
      "-RECORD 9-------------------------------------------------------------------------------------------------------------\n",
      " item_id                     | 357                                                                                    \n",
      " channel_id                  | null                                                                                   \n",
      " datetime_availability_start | 1970-01-01T00:00:00Z                                                                   \n",
      " datetime_availability_stop  | 2099-12-31T21:00:00Z                                                                   \n",
      " datetime_show_start         | null                                                                                   \n",
      " datetime_show_stop          | null                                                                                   \n",
      " content_type                | 1                                                                                      \n",
      " title                       | 8 первых свиданий                                                                      \n",
      " year                        | 2012.0                                                                                 \n",
      " genres                      | Комедии,Мелодрамы,Наши                                                                 \n",
      " region_id                   | null                                                                                   \n",
      "-RECORD 10------------------------------------------------------------------------------------------------------------\n",
      " item_id                     | 396                                                                                    \n",
      " channel_id                  | null                                                                                   \n",
      " datetime_availability_start | 1970-01-01T00:00:00Z                                                                   \n",
      " datetime_availability_stop  | 2099-12-31T21:00:00Z                                                                   \n",
      " datetime_show_start         | null                                                                                   \n",
      " datetime_show_stop          | null                                                                                   \n",
      " content_type                | 1                                                                                      \n",
      " title                       | предчувствие                                                                           \n",
      " year                        | 2007.0                                                                                 \n",
      " genres                      | Детективы,Триллеры,Драмы,Фантастика,Зарубежные                                         \n",
      " region_id                   | null                                                                                   \n",
      "-RECORD 11------------------------------------------------------------------------------------------------------------\n",
      " item_id                     | 400                                                                                    \n",
      " channel_id                  | null                                                                                   \n",
      " datetime_availability_start | 1970-01-01T00:00:00Z                                                                   \n",
      " datetime_availability_stop  | 2099-12-31T21:00:00Z                                                                   \n",
      " datetime_show_start         | null                                                                                   \n",
      " datetime_show_stop          | null                                                                                   \n",
      " content_type                | 1                                                                                      \n",
      " title                       | путь воина                                                                             \n",
      " year                        | 2010.0                                                                                 \n",
      " genres                      | Фантастика,Боевики,Зарубежные                                                          \n",
      " region_id                   | null                                                                                   \n",
      "-RECORD 12------------------------------------------------------------------------------------------------------------\n",
      " item_id                     | 423                                                                                    \n",
      " channel_id                  | null                                                                                   \n",
      " datetime_availability_start | 1970-01-01T00:00:00Z                                                                   \n",
      " datetime_availability_stop  | 2099-12-31T21:00:00Z                                                                   \n",
      " datetime_show_start         | null                                                                                   \n",
      " datetime_show_stop          | null                                                                                   \n",
      " content_type                | 1                                                                                      \n",
      " title                       | список контактов                                                                       \n",
      " year                        | 2008.0                                                                                 \n",
      " genres                      | Детективы,Триллеры,Драмы,Криминал,Зарубежные                                           \n",
      " region_id                   | null                                                                                   \n",
      "-RECORD 13------------------------------------------------------------------------------------------------------------\n",
      " item_id                     | 430                                                                                    \n",
      " channel_id                  | null                                                                                   \n",
      " datetime_availability_start | 1970-01-01T00:00:00Z                                                                   \n",
      " datetime_availability_stop  | 2099-12-31T21:00:00Z                                                                   \n",
      " datetime_show_start         | null                                                                                   \n",
      " datetime_show_stop          | null                                                                                   \n",
      " content_type                | 1                                                                                      \n",
      " title                       | сыщик                                                                                  \n",
      " year                        | 2007.0                                                                                 \n",
      " genres                      | Детективы,Триллеры,Драмы,Зарубежные                                                    \n",
      " region_id                   | null                                                                                   \n",
      "-RECORD 14------------------------------------------------------------------------------------------------------------\n",
      " item_id                     | 449                                                                                    \n",
      " channel_id                  | null                                                                                   \n",
      " datetime_availability_start | 1970-01-01T00:00:00Z                                                                   \n",
      " datetime_availability_stop  | 2099-12-31T21:00:00Z                                                                   \n",
      " datetime_show_start         | null                                                                                   \n",
      " datetime_show_stop          | null                                                                                   \n",
      " content_type                | 1                                                                                      \n",
      " title                       | туристы                                                                                \n",
      " year                        | 2006.0                                                                                 \n",
      " genres                      | Ужасы,Детективы,Триллеры,Зарубежные                                                    \n",
      " region_id                   | null                                                                                   \n",
      "-RECORD 15------------------------------------------------------------------------------------------------------------\n",
      " item_id                     | 453                                                                                    \n",
      " channel_id                  | null                                                                                   \n",
      " datetime_availability_start | 1970-01-01T00:00:00Z                                                                   \n",
      " datetime_availability_stop  | 2099-12-31T21:00:00Z                                                                   \n",
      " datetime_show_start         | null                                                                                   \n",
      " datetime_show_stop          | null                                                                                   \n",
      " content_type                | 1                                                                                      \n",
      " title                       | уроки вождения                                                                         \n",
      " year                        | 2006.0                                                                                 \n",
      " genres                      | Комедии,Драмы,Зарубежные                                                               \n",
      " region_id                   | null                                                                                   \n",
      "-RECORD 16------------------------------------------------------------------------------------------------------------\n",
      " item_id                     | 478                                                                                    \n",
      " channel_id                  | null                                                                                   \n",
      " datetime_availability_start | 1970-01-01T00:00:00Z                                                                   \n",
      " datetime_availability_stop  | 2099-12-31T21:00:00Z                                                                   \n",
      " datetime_show_start         | null                                                                                   \n",
      " datetime_show_stop          | null                                                                                   \n",
      " content_type                | 1                                                                                      \n",
      " title                       | апостол                                                                                \n",
      " year                        | 2008.0                                                                                 \n",
      " genres                      | Военные,Боевики,Наши                                                                   \n",
      " region_id                   | null                                                                                   \n",
      "-RECORD 17------------------------------------------------------------------------------------------------------------\n",
      " item_id                     | 495                                                                                    \n",
      " channel_id                  | null                                                                                   \n",
      " datetime_availability_start | 1970-01-01T00:00:00Z                                                                   \n",
      " datetime_availability_stop  | 2099-12-31T21:00:00Z                                                                   \n",
      " datetime_show_start         | null                                                                                   \n",
      " datetime_show_stop          | null                                                                                   \n",
      " content_type                | 1                                                                                      \n",
      " title                       | железный рыцарь                                                                        \n",
      " year                        | 2010.0                                                                                 \n",
      " genres                      | Приключения,Исторические,Мелодрамы,Боевики,Зарубежные                                  \n",
      " region_id                   | null                                                                                   \n",
      "-RECORD 18------------------------------------------------------------------------------------------------------------\n",
      " item_id                     | 505                                                                                    \n",
      " channel_id                  | null                                                                                   \n",
      " datetime_availability_start | 1970-01-01T00:00:00Z                                                                   \n",
      " datetime_availability_stop  | 2099-12-31T21:00:00Z                                                                   \n",
      " datetime_show_start         | null                                                                                   \n",
      " datetime_show_stop          | null                                                                                   \n",
      " content_type                | 1                                                                                      \n",
      " title                       | че: часть первая. аргентинец                                                           \n",
      " year                        | 2008.0                                                                                 \n",
      " genres                      | Военные,Драмы,Исторические,Зарубежные                                                  \n",
      " region_id                   | null                                                                                   \n",
      "-RECORD 19------------------------------------------------------------------------------------------------------------\n",
      " item_id                     | 540                                                                                    \n",
      " channel_id                  | null                                                                                   \n",
      " datetime_availability_start | 1970-01-01T00:00:00Z                                                                   \n",
      " datetime_availability_stop  | 2099-12-31T21:00:00Z                                                                   \n",
      " datetime_show_start         | null                                                                                   \n",
      " datetime_show_stop          | null                                                                                   \n",
      " content_type                | 1                                                                                      \n",
      " title                       | мой парень – псих                                                                      \n",
      " year                        | 2012.0                                                                                 \n",
      " genres                      | Комедии,Драмы,Мелодрамы,Зарубежные                                                     \n",
      " region_id                   | null                                                                                   \n",
      "only showing top 20 rows\n",
      "\n"
     ]
    }
   ],
   "source": [
    "df_items.show(vertical=True, truncate=False)"
   ]
  },
  {
   "cell_type": "code",
   "execution_count": 48,
   "metadata": {},
   "outputs": [],
   "source": [
    "from pyspark.ml.feature import RegexTokenizer\n",
    "\n",
    "items_genres_years = df_items.select('item_id', 'genres', 'year')\n",
    "items_genres_years = items_genres_years.na.fill({'genres': u'_'})\n",
    "items_genres_years = items_genres_years.na.fill({'year': u'1899'})\n",
    "items_genres_years = items_genres_years.withColumn('year', items_genres_years.year.cast(IntegerType()))\n",
    "\n",
    "tokenizer = RegexTokenizer(inputCol=\"genres\", outputCol=\"genre_tokens\", gaps=False, pattern=u\"[_А-Яа-яёЁ]+\", toLowercase=False)\n",
    "\n",
    "items_genres_years_tk = tokenizer.transform(items_genres_years)"
   ]
  },
  {
   "cell_type": "code",
   "execution_count": 49,
   "metadata": {},
   "outputs": [],
   "source": [
    "from pyspark.ml.feature import CountVectorizer\n",
    "\n",
    "cv = CountVectorizer(inputCol=\"genre_tokens\", outputCol=\"genre_vector\")\n",
    "cv_model = cv.fit(items_genres_years_tk)\n",
    "items_features_vec = cv_model.transform(items_genres_years_tk)"
   ]
  },
  {
   "cell_type": "code",
   "execution_count": 50,
   "metadata": {},
   "outputs": [
    {
     "name": "stdout",
     "output_type": "stream",
     "text": [
      "+-------+-------+----+------------+---------------+\n",
      "|item_id| genres|year|genre_tokens|   genre_vector|\n",
      "+-------+-------+----+------------+---------------+\n",
      "|  65667|Эротика|2013|   [Эротика]|(96,[22],[1.0])|\n",
      "|  65669|Эротика|2011|   [Эротика]|(96,[22],[1.0])|\n",
      "|  65668|Эротика|2011|   [Эротика]|(96,[22],[1.0])|\n",
      "|  65671|Эротика|2011|   [Эротика]|(96,[22],[1.0])|\n",
      "|  65670|Эротика|2010|   [Эротика]|(96,[22],[1.0])|\n",
      "+-------+-------+----+------------+---------------+\n",
      "only showing top 5 rows\n",
      "\n"
     ]
    }
   ],
   "source": [
    "items_features_vec.show(5)"
   ]
  },
  {
   "cell_type": "code",
   "execution_count": 51,
   "metadata": {},
   "outputs": [],
   "source": [
    "train_genres = train.join(items_features_vec, on='item_id', how='left')\n",
    "valid_genres = valid.join(items_features_vec, on='item_id', how='left')\n",
    "test_genres = test.join(items_features_vec, on='item_id', how='left')"
   ]
  },
  {
   "cell_type": "code",
   "execution_count": 52,
   "metadata": {},
   "outputs": [],
   "source": [
    "# Выбираю колонки, которые войдут в features для GBT\n",
    "cols = ['item_purchases', 'user_purchases', 'user_addict', 'item_addict', 'year', 'genre_vector']\n",
    "assembler = VectorAssembler(inputCols=cols, outputCol=\"features\")\n",
    "\n",
    "train_data = assembler.transform(train_genres).cache()\n",
    "valid_data = assembler.transform(valid_genres)\n",
    "test_data = assembler.transform(test_genres)"
   ]
  },
  {
   "cell_type": "code",
   "execution_count": 53,
   "metadata": {},
   "outputs": [],
   "source": [
    "from pyspark.ml.classification import GBTClassifier\n",
    "\n",
    "gbt = GBTClassifier(labelCol=\"purchase\", maxDepth=4, minInstancesPerNode=3, maxBins=50)\n",
    "\n",
    "gbt_model = gbt.fit(train_data)\n",
    "predictions_valid = gbt_model.transform(valid_data)"
   ]
  },
  {
   "cell_type": "code",
   "execution_count": 54,
   "metadata": {},
   "outputs": [
    {
     "data": {
      "text/plain": [
       "SparseVector(101, {0: 0.3998, 1: 0.3117, 2: 0.1558, 3: 0.0983, 5: 0.0033, 21: 0.0084, 26: 0.0017, 27: 0.0075, 49: 0.0107, 60: 0.0014, 73: 0.0, 74: 0.0015})"
      ]
     },
     "execution_count": 54,
     "metadata": {},
     "output_type": "execute_result"
    }
   ],
   "source": [
    "gbt_model.featureImportances"
   ]
  },
  {
   "cell_type": "code",
   "execution_count": 55,
   "metadata": {},
   "outputs": [
    {
     "data": {
      "text/plain": [
       "0.8934890901380091"
      ]
     },
     "execution_count": 55,
     "metadata": {},
     "output_type": "execute_result"
    }
   ],
   "source": [
    "evaluator = BinaryClassificationEvaluator(labelCol=\"purchase\", metricName='areaUnderROC')\n",
    "score = evaluator.evaluate(predictions_valid)\n",
    "score"
   ]
  },
  {
   "cell_type": "code",
   "execution_count": 56,
   "metadata": {},
   "outputs": [
    {
     "data": {
      "text/plain": [
       "DataFrame[item_id: int, user_id: int, purchase: double, user_purchases: double, item_purchases: double, user_attempts: bigint, item_attempts: bigint, user_addict: double, item_addict: double, genres: string, year: int, genre_tokens: array<string>, genre_vector: vector, features: vector]"
      ]
     },
     "execution_count": 56,
     "metadata": {},
     "output_type": "execute_result"
    }
   ],
   "source": [
    "train_data.unpersist()"
   ]
  },
  {
   "cell_type": "markdown",
   "metadata": {},
   "source": [
    "## Добавим вектор пользовательской истории"
   ]
  },
  {
   "cell_type": "code",
   "execution_count": 57,
   "metadata": {},
   "outputs": [
    {
     "data": {
      "text/plain": [
       "DataFrame[item_id: int, item_count: bigint, item_row_id: bigint]"
      ]
     },
     "execution_count": 57,
     "metadata": {},
     "output_type": "execute_result"
    }
   ],
   "source": [
    "# Добавим вектор пользовательской истории\n",
    "from pyspark.sql.functions import monotonically_increasing_id\n",
    "\n",
    "items_count = train.groupBy('item_id').count().withColumnRenamed('count', 'item_count')\n",
    "items_desc_count = items_count.orderBy(items_count.item_count.desc()).limit(500) \n",
    "items_desc_count = items_desc_count.coalesce(1)\n",
    "items_desc_count = items_desc_count.withColumn(\"item_row_id\", monotonically_increasing_id())\n",
    "\n",
    "items_desc_count.cache()"
   ]
  },
  {
   "cell_type": "code",
   "execution_count": 58,
   "metadata": {},
   "outputs": [
    {
     "name": "stdout",
     "output_type": "stream",
     "text": [
      "+-------+----------+-----------+\n",
      "|item_id|item_count|item_row_id|\n",
      "+-------+----------+-----------+\n",
      "|  66185|      1172|          0|\n",
      "|  94000|      1164|          1|\n",
      "+-------+----------+-----------+\n",
      "only showing top 2 rows\n",
      "\n"
     ]
    }
   ],
   "source": [
    "items_desc_count.show(2)"
   ]
  },
  {
   "cell_type": "code",
   "execution_count": 59,
   "metadata": {},
   "outputs": [
    {
     "name": "stdout",
     "output_type": "stream",
     "text": [
      "+-------+-----------+--------+\n",
      "|user_id|item_row_id|purchase|\n",
      "+-------+-----------+--------+\n",
      "| 886063|        436|     0.0|\n",
      "| 920599|        436|     0.0|\n",
      "+-------+-----------+--------+\n",
      "only showing top 2 rows\n",
      "\n"
     ]
    }
   ],
   "source": [
    "train_truncated = train.join(items_desc_count, on='item_id', how='inner')\\\n",
    "                    .select('user_id', 'item_row_id', 'purchase').cache()\n",
    "\n",
    "train_truncated.show(2)"
   ]
  },
  {
   "cell_type": "code",
   "execution_count": 60,
   "metadata": {},
   "outputs": [],
   "source": [
    "from pyspark.mllib.linalg.distributed import CoordinateMatrix, MatrixEntry\n",
    "from pyspark.ml.linalg import VectorUDT\n",
    "\n",
    "from pyspark.sql.functions import udf"
   ]
  },
  {
   "cell_type": "code",
   "execution_count": 61,
   "metadata": {},
   "outputs": [],
   "source": [
    "# Now we build up a history vector\n",
    "\n",
    "as_ml = udf(lambda v: v.asML(), VectorUDT())\n",
    "\n",
    "train_matrix = train_truncated.rdd.map(lambda r: MatrixEntry(r[0], r[1], r[2]))\n",
    "train_matrix = CoordinateMatrix(train_matrix)\n",
    "\n",
    "train_row_mat_i = train_matrix.toIndexedRowMatrix()\n",
    "\n",
    "train_mat_df = train_row_mat_i.rows.toDF().withColumnRenamed('index', 'user_id') \\\n",
    "                                    .withColumn(\"history_vec\", as_ml(\"vector\"))"
   ]
  },
  {
   "cell_type": "code",
   "execution_count": 62,
   "metadata": {},
   "outputs": [
    {
     "name": "stdout",
     "output_type": "stream",
     "text": [
      "+-------+--------------------+--------------------+\n",
      "|user_id|              vector|         history_vec|\n",
      "+-------+--------------------+--------------------+\n",
      "| 922400|(500,[6,7,8,9,11,...|(500,[6,7,8,9,11,...|\n",
      "| 940600|(500,[1,2,4,6,7,8...|(500,[1,2,4,6,7,8...|\n",
      "| 866400|(500,[0,1,4,5,6,7...|(500,[0,1,4,5,6,7...|\n",
      "| 857000|(500,[0,1,2,3,4,8...|(500,[0,1,2,3,4,8...|\n",
      "| 899200|(500,[0,1,4,6,7,8...|(500,[0,1,4,6,7,8...|\n",
      "| 879401|(500,[1,3,6,8,10,...|(500,[1,3,6,8,10,...|\n",
      "| 749801|(500,[0,2,3,4,6,7...|(500,[0,2,3,4,6,7...|\n",
      "| 792601|(500,[2,3,4,5,6,7...|(500,[2,3,4,5,6,7...|\n",
      "| 905401|(500,[0,2,4,9,11,...|(500,[0,2,4,9,11,...|\n",
      "| 905201|(500,[0,2,3,4,6,7...|(500,[0,2,3,4,6,7...|\n",
      "+-------+--------------------+--------------------+\n",
      "only showing top 10 rows\n",
      "\n"
     ]
    }
   ],
   "source": [
    "train_mat_df.show(10)"
   ]
  },
  {
   "cell_type": "code",
   "execution_count": 63,
   "metadata": {},
   "outputs": [
    {
     "data": {
      "text/plain": [
       "DataFrame[user_id: int, item_row_id: bigint, purchase: double]"
      ]
     },
     "execution_count": 63,
     "metadata": {},
     "output_type": "execute_result"
    }
   ],
   "source": [
    "train_truncated.unpersist()"
   ]
  },
  {
   "cell_type": "code",
   "execution_count": 64,
   "metadata": {},
   "outputs": [],
   "source": [
    "# Joining everything together\n",
    "\n",
    "train_hist = train.join(train_mat_df, 'user_id', 'left') \\\n",
    "                    .join(items_features_vec, on='item_id', how='left') \n",
    "\n",
    "valid_hist = valid.join(train_mat_df, 'user_id', 'left') \\\n",
    "                    .join(items_features_vec, on='item_id', how='left') \n",
    "\n",
    "test_hist = test.join(train_mat_df, 'user_id', 'left') \\\n",
    "                    .join(items_features_vec, on='item_id', how='left')"
   ]
  },
  {
   "cell_type": "code",
   "execution_count": 65,
   "metadata": {},
   "outputs": [
    {
     "name": "stdout",
     "output_type": "stream",
     "text": [
      "+-------+-------+--------+--------------+--------------+-------------+-------------+--------------------+-------------------+--------------------+--------------------+--------------------+----+--------------------+--------------------+\n",
      "|item_id|user_id|purchase|user_purchases|item_purchases|user_attempts|item_attempts|         user_addict|        item_addict|              vector|         history_vec|              genres|year|        genre_tokens|        genre_vector|\n",
      "+-------+-------+--------+--------------+--------------+-------------+-------------+--------------------+-------------------+--------------------+--------------------+--------------------+----+--------------------+--------------------+\n",
      "|   8389| 773825|     0.0|           2.0|           5.0|         2068|         1061|9.671179883945841E-4|0.00471253534401508|(500,[1,2,3,5,6,7...|(500,[1,2,3,5,6,7...|Мультфильмы,Детск...|1981|[Мультфильмы, Дет...|(96,[7,16,21,25],...|\n",
      "|   8389| 867836|     0.0|           0.0|           5.0|         2090|         1061|                 0.0|0.00471253534401508|(500,[0,3,5,9,10,...|(500,[0,3,5,9,10,...|Мультфильмы,Детск...|1981|[Мультфильмы, Дет...|(96,[7,16,21,25],...|\n",
      "+-------+-------+--------+--------------+--------------+-------------+-------------+--------------------+-------------------+--------------------+--------------------+--------------------+----+--------------------+--------------------+\n",
      "only showing top 2 rows\n",
      "\n"
     ]
    }
   ],
   "source": [
    "train_hist.show(2)"
   ]
  },
  {
   "cell_type": "code",
   "execution_count": 66,
   "metadata": {},
   "outputs": [],
   "source": [
    "assembler = VectorAssembler(inputCols=['item_purchases', 'user_purchases',\n",
    "                                       'user_addict', 'item_addict', 'history_vec',\n",
    "                                       'genre_vector'],\n",
    "                            outputCol=\"features\")\n",
    "\n",
    "train_data = assembler.transform(train_hist).cache()\n",
    "valid_data = assembler.transform(valid_hist)\n",
    "test_data = assembler.transform(test_hist)"
   ]
  },
  {
   "cell_type": "code",
   "execution_count": 67,
   "metadata": {},
   "outputs": [
    {
     "data": {
      "text/plain": [
       "0"
      ]
     },
     "execution_count": 67,
     "metadata": {},
     "output_type": "execute_result"
    }
   ],
   "source": [
    "train_data.where(train_data.features.isNull()).count()"
   ]
  },
  {
   "cell_type": "code",
   "execution_count": 68,
   "metadata": {},
   "outputs": [],
   "source": [
    "gbt = GBTClassifier(labelCol=\"purchase\", maxDepth=4, minInstancesPerNode=3, maxBins=50)\n",
    "\n",
    "gbt_model = gbt.fit(train_data)\n",
    "predictions_valid = gbt_model.transform(valid_data)"
   ]
  },
  {
   "cell_type": "code",
   "execution_count": 69,
   "metadata": {},
   "outputs": [
    {
     "data": {
      "text/plain": [
       "0.8943848968336421"
      ]
     },
     "execution_count": 69,
     "metadata": {},
     "output_type": "execute_result"
    }
   ],
   "source": [
    "evaluator = BinaryClassificationEvaluator(labelCol=\"purchase\", metricName='areaUnderROC')\n",
    "score = evaluator.evaluate(predictions_valid)\n",
    "score"
   ]
  },
  {
   "cell_type": "code",
   "execution_count": 70,
   "metadata": {},
   "outputs": [
    {
     "data": {
      "text/plain": [
       "DataFrame[item_id: int, user_id: int, purchase: double, user_purchases: double, item_purchases: double, user_attempts: bigint, item_attempts: bigint, user_addict: double, item_addict: double, vector: vector, history_vec: vector, genres: string, year: int, genre_tokens: array<string>, genre_vector: vector, features: vector]"
      ]
     },
     "execution_count": 70,
     "metadata": {},
     "output_type": "execute_result"
    }
   ],
   "source": [
    "train_data.unpersist()"
   ]
  },
  {
   "cell_type": "code",
   "execution_count": 71,
   "metadata": {},
   "outputs": [],
   "source": [
    "test_predictions = gbt_model.transform(test_data)"
   ]
  },
  {
   "cell_type": "code",
   "execution_count": 72,
   "metadata": {},
   "outputs": [
    {
     "name": "stdout",
     "output_type": "stream",
     "text": [
      "-RECORD 0--------------------------------------------------------------------------------------------------------------------------------------------------------------------------------------------------------------------------------------------------------------------------------------------------------------------------------------------------------------------------------------------------------------------------------------------------------------------------------------------------------------------------------------------------------------------------------------------------------------------------------------------------------------------------------------------------------------------------------------------------------------------------------------------------------------------------------------------------------------------------------------------------------------------------------------------------------------------------------------------------------------------------------------------------------------------------------------------------------------------------------------------------------------------------------------------------------------------------------------------------------------------------------------------------------------------------------------------------------------------------------------------------------------------------------------------------------------------------------------------------------------------------------------------------------------------------------------------------------------------------------------------------------------------------------------------------------------------------------------------------------------------------------------------------------------------------------------------------------------------------------------------------------------------------------------------------------------------------------------------------------------------------------------------------------------------------------------------------------------------------------------------------------------------------------------------------------------------------------------------------------------------------------------------------\n",
      " item_id        | 8389                                                                                                                                                                                                                                                                                                                                                                                                                                                                                                                                                                                                                                                                                                                                                                                                                                                                                                                                                                                                                                                                                                                                                                                                                                                                                                                                                                                                                                                                                                                                                                                                                                                                                                                                                                                                                                                                                                                                                                                                                                                                                                                                                                                                                                                                                     \n",
      " user_id        | 896137                                                                                                                                                                                                                                                                                                                                                                                                                                                                                                                                                                                                                                                                                                                                                                                                                                                                                                                                                                                                                                                                                                                                                                                                                                                                                                                                                                                                                                                                                                                                                                                                                                                                                                                                                                                                                                                                                                                                                                                                                                                                                                                                                                                                                                                                                   \n",
      " purchase       | 0.0                                                                                                                                                                                                                                                                                                                                                                                                                                                                                                                                                                                                                                                                                                                                                                                                                                                                                                                                                                                                                                                                                                                                                                                                                                                                                                                                                                                                                                                                                                                                                                                                                                                                                                                                                                                                                                                                                                                                                                                                                                                                                                                                                                                                                                                                                      \n",
      " user_purchases | 1.0                                                                                                                                                                                                                                                                                                                                                                                                                                                                                                                                                                                                                                                                                                                                                                                                                                                                                                                                                                                                                                                                                                                                                                                                                                                                                                                                                                                                                                                                                                                                                                                                                                                                                                                                                                                                                                                                                                                                                                                                                                                                                                                                                                                                                                                                                      \n",
      " item_purchases | 5.0                                                                                                                                                                                                                                                                                                                                                                                                                                                                                                                                                                                                                                                                                                                                                                                                                                                                                                                                                                                                                                                                                                                                                                                                                                                                                                                                                                                                                                                                                                                                                                                                                                                                                                                                                                                                                                                                                                                                                                                                                                                                                                                                                                                                                                                                                      \n",
      " user_attempts  | 2045                                                                                                                                                                                                                                                                                                                                                                                                                                                                                                                                                                                                                                                                                                                                                                                                                                                                                                                                                                                                                                                                                                                                                                                                                                                                                                                                                                                                                                                                                                                                                                                                                                                                                                                                                                                                                                                                                                                                                                                                                                                                                                                                                                                                                                                                                     \n",
      " item_attempts  | 1061                                                                                                                                                                                                                                                                                                                                                                                                                                                                                                                                                                                                                                                                                                                                                                                                                                                                                                                                                                                                                                                                                                                                                                                                                                                                                                                                                                                                                                                                                                                                                                                                                                                                                                                                                                                                                                                                                                                                                                                                                                                                                                                                                                                                                                                                                     \n",
      " user_addict    | 4.889975550122249E-4                                                                                                                                                                                                                                                                                                                                                                                                                                                                                                                                                                                                                                                                                                                                                                                                                                                                                                                                                                                                                                                                                                                                                                                                                                                                                                                                                                                                                                                                                                                                                                                                                                                                                                                                                                                                                                                                                                                                                                                                                                                                                                                                                                                                                                                                     \n",
      " item_addict    | 0.00471253534401508                                                                                                                                                                                                                                                                                                                                                                                                                                                                                                                                                                                                                                                                                                                                                                                                                                                                                                                                                                                                                                                                                                                                                                                                                                                                                                                                                                                                                                                                                                                                                                                                                                                                                                                                                                                                                                                                                                                                                                                                                                                                                                                                                                                                                                                                      \n",
      " vector         | (500,[0,3,4,5,6,9,10,13,14,15,16,18,19,22,23,24,25,26,28,29,30,31,32,33,34,37,38,42,43,44,45,46,47,48,49,50,51,55,56,57,61,65,69,71,74,75,77,81,85,86,87,88,89,91,93,94,95,97,99,100,101,102,104,105,107,108,109,111,113,114,115,116,117,118,124,126,128,133,134,137,138,140,141,142,143,144,145,147,149,150,152,153,154,155,157,158,160,161,162,165,167,174,175,179,181,185,187,189,191,192,193,194,196,198,201,203,204,209,211,213,215,217,219,221,222,223,225,227,228,229,233,236,239,240,241,242,245,248,249,250,252,253,254,256,257,258,259,260,261,263,266,268,269,270,271,274,276,277,282,284,289,291,292,297,299,301,302,303,304,306,307,308,309,311,312,315,317,319,320,322,323,324,327,329,330,331,333,335,336,338,341,343,344,348,349,351,358,359,360,361,362,363,367,370,372,373,374,375,377,378,380,382,383,384,385,386,387,396,397,398,399,400,403,404,405,406,407,410,412,415,417,420,422,423,424,425,426,427,428,429,430,432,434,435,436,437,438,439,441,443,446,449,451,453,454,456,457,459,460,461,464,465,466,467,468,469,470,471,472,473,477,478,481,482,484,486,487,489,490,492,494,496],[0.0,0.0,0.0,0.0,0.0,0.0,0.0,0.0,0.0,0.0,0.0,0.0,0.0,0.0,0.0,0.0,0.0,0.0,0.0,0.0,0.0,0.0,0.0,0.0,0.0,0.0,0.0,0.0,0.0,0.0,0.0,0.0,0.0,0.0,0.0,0.0,0.0,0.0,0.0,0.0,0.0,0.0,0.0,0.0,0.0,0.0,0.0,0.0,0.0,0.0,0.0,0.0,0.0,0.0,0.0,0.0,0.0,0.0,0.0,0.0,0.0,0.0,0.0,0.0,0.0,0.0,0.0,0.0,0.0,0.0,0.0,0.0,0.0,0.0,0.0,0.0,0.0,0.0,0.0,0.0,0.0,0.0,0.0,0.0,0.0,0.0,0.0,0.0,0.0,0.0,0.0,0.0,0.0,0.0,0.0,0.0,0.0,0.0,0.0,0.0,0.0,0.0,0.0,0.0,0.0,0.0,0.0,0.0,0.0,0.0,0.0,0.0,0.0,0.0,0.0,0.0,0.0,0.0,0.0,0.0,0.0,0.0,0.0,0.0,0.0,0.0,0.0,0.0,0.0,0.0,0.0,0.0,0.0,0.0,0.0,0.0,0.0,0.0,0.0,0.0,0.0,0.0,0.0,0.0,0.0,0.0,0.0,0.0,0.0,0.0,0.0,0.0,0.0,0.0,0.0,0.0,0.0,0.0,0.0,0.0,0.0,0.0,0.0,0.0,0.0,0.0,0.0,0.0,0.0,0.0,0.0,0.0,0.0,0.0,0.0,0.0,0.0,0.0,0.0,0.0,0.0,0.0,0.0,0.0,0.0,0.0,0.0,0.0,0.0,0.0,0.0,0.0,0.0,0.0,0.0,0.0,0.0,0.0,0.0,0.0,0.0,0.0,0.0,0.0,0.0,0.0,0.0,0.0,0.0,0.0,0.0,0.0,0.0,0.0,0.0,0.0,0.0,0.0,0.0,0.0,0.0,0.0,0.0,0.0,0.0,0.0,0.0,0.0,0.0,0.0,0.0,0.0,0.0,0.0,0.0,0.0,0.0,0.0,0.0,0.0,0.0,0.0,0.0,0.0,0.0,0.0,0.0,0.0,0.0,0.0,0.0,0.0,0.0,0.0,0.0,0.0,0.0,0.0,0.0,0.0,0.0,0.0,0.0,0.0,0.0,0.0,0.0,0.0,0.0,0.0,0.0,0.0,0.0,0.0,0.0,0.0,0.0,0.0,0.0,0.0,0.0,0.0]) \n",
      " history_vec    | (500,[0,3,4,5,6,9,10,13,14,15,16,18,19,22,23,24,25,26,28,29,30,31,32,33,34,37,38,42,43,44,45,46,47,48,49,50,51,55,56,57,61,65,69,71,74,75,77,81,85,86,87,88,89,91,93,94,95,97,99,100,101,102,104,105,107,108,109,111,113,114,115,116,117,118,124,126,128,133,134,137,138,140,141,142,143,144,145,147,149,150,152,153,154,155,157,158,160,161,162,165,167,174,175,179,181,185,187,189,191,192,193,194,196,198,201,203,204,209,211,213,215,217,219,221,222,223,225,227,228,229,233,236,239,240,241,242,245,248,249,250,252,253,254,256,257,258,259,260,261,263,266,268,269,270,271,274,276,277,282,284,289,291,292,297,299,301,302,303,304,306,307,308,309,311,312,315,317,319,320,322,323,324,327,329,330,331,333,335,336,338,341,343,344,348,349,351,358,359,360,361,362,363,367,370,372,373,374,375,377,378,380,382,383,384,385,386,387,396,397,398,399,400,403,404,405,406,407,410,412,415,417,420,422,423,424,425,426,427,428,429,430,432,434,435,436,437,438,439,441,443,446,449,451,453,454,456,457,459,460,461,464,465,466,467,468,469,470,471,472,473,477,478,481,482,484,486,487,489,490,492,494,496],[0.0,0.0,0.0,0.0,0.0,0.0,0.0,0.0,0.0,0.0,0.0,0.0,0.0,0.0,0.0,0.0,0.0,0.0,0.0,0.0,0.0,0.0,0.0,0.0,0.0,0.0,0.0,0.0,0.0,0.0,0.0,0.0,0.0,0.0,0.0,0.0,0.0,0.0,0.0,0.0,0.0,0.0,0.0,0.0,0.0,0.0,0.0,0.0,0.0,0.0,0.0,0.0,0.0,0.0,0.0,0.0,0.0,0.0,0.0,0.0,0.0,0.0,0.0,0.0,0.0,0.0,0.0,0.0,0.0,0.0,0.0,0.0,0.0,0.0,0.0,0.0,0.0,0.0,0.0,0.0,0.0,0.0,0.0,0.0,0.0,0.0,0.0,0.0,0.0,0.0,0.0,0.0,0.0,0.0,0.0,0.0,0.0,0.0,0.0,0.0,0.0,0.0,0.0,0.0,0.0,0.0,0.0,0.0,0.0,0.0,0.0,0.0,0.0,0.0,0.0,0.0,0.0,0.0,0.0,0.0,0.0,0.0,0.0,0.0,0.0,0.0,0.0,0.0,0.0,0.0,0.0,0.0,0.0,0.0,0.0,0.0,0.0,0.0,0.0,0.0,0.0,0.0,0.0,0.0,0.0,0.0,0.0,0.0,0.0,0.0,0.0,0.0,0.0,0.0,0.0,0.0,0.0,0.0,0.0,0.0,0.0,0.0,0.0,0.0,0.0,0.0,0.0,0.0,0.0,0.0,0.0,0.0,0.0,0.0,0.0,0.0,0.0,0.0,0.0,0.0,0.0,0.0,0.0,0.0,0.0,0.0,0.0,0.0,0.0,0.0,0.0,0.0,0.0,0.0,0.0,0.0,0.0,0.0,0.0,0.0,0.0,0.0,0.0,0.0,0.0,0.0,0.0,0.0,0.0,0.0,0.0,0.0,0.0,0.0,0.0,0.0,0.0,0.0,0.0,0.0,0.0,0.0,0.0,0.0,0.0,0.0,0.0,0.0,0.0,0.0,0.0,0.0,0.0,0.0,0.0,0.0,0.0,0.0,0.0,0.0,0.0,0.0,0.0,0.0,0.0,0.0,0.0,0.0,0.0,0.0,0.0,0.0,0.0,0.0,0.0,0.0,0.0,0.0,0.0,0.0,0.0,0.0,0.0,0.0,0.0,0.0,0.0,0.0,0.0,0.0,0.0,0.0,0.0,0.0,0.0,0.0,0.0,0.0,0.0,0.0,0.0,0.0]) \n",
      " genres         | Мультфильмы,Детские,Союзмультфильм,Наши                                                                                                                                                                                                                                                                                                                                                                                                                                                                                                                                                                                                                                                                                                                                                                                                                                                                                                                                                                                                                                                                                                                                                                                                                                                                                                                                                                                                                                                                                                                                                                                                                                                                                                                                                                                                                                                                                                                                                                                                                                                                                                                                                                                                                                                  \n",
      " year           | 1981                                                                                                                                                                                                                                                                                                                                                                                                                                                                                                                                                                                                                                                                                                                                                                                                                                                                                                                                                                                                                                                                                                                                                                                                                                                                                                                                                                                                                                                                                                                                                                                                                                                                                                                                                                                                                                                                                                                                                                                                                                                                                                                                                                                                                                                                                     \n",
      " genre_tokens   | [Мультфильмы, Детские, Союзмультфильм, Наши]                                                                                                                                                                                                                                                                                                                                                                                                                                                                                                                                                                                                                                                                                                                                                                                                                                                                                                                                                                                                                                                                                                                                                                                                                                                                                                                                                                                                                                                                                                                                                                                                                                                                                                                                                                                                                                                                                                                                                                                                                                                                                                                                                                                                                                             \n",
      " genre_vector   | (96,[7,16,21,25],[1.0,1.0,1.0,1.0])                                                                                                                                                                                                                                                                                                                                                                                                                                                                                                                                                                                                                                                                                                                                                                                                                                                                                                                                                                                                                                                                                                                                                                                                                                                                                                                                                                                                                                                                                                                                                                                                                                                                                                                                                                                                                                                                                                                                                                                                                                                                                                                                                                                                                                                      \n",
      " features       | (504,[0,1,2,3],[5.0,1.0,4.889975550122249E-4,0.00471253534401508])                                                                                                                                                                                                                                                                                                                                                                                                                                                                                                                                                                                                                                                                                                                                                                                                                                                                                                                                                                                                                                                                                                                                                                                                                                                                                                                                                                                                                                                                                                                                                                                                                                                                                                                                                                                                                                                                                                                                                                                                                                                                                                                                                                                                                       \n",
      " rawPrediction  | [1.5410565458639895,-1.5410565458639895]                                                                                                                                                                                                                                                                                                                                                                                                                                                                                                                                                                                                                                                                                                                                                                                                                                                                                                                                                                                                                                                                                                                                                                                                                                                                                                                                                                                                                                                                                                                                                                                                                                                                                                                                                                                                                                                                                                                                                                                                                                                                                                                                                                                                                                                 \n",
      " probability    | [0.9561488682053938,0.0438511317946062]                                                                                                                                                                                                                                                                                                                                                                                                                                                                                                                                                                                                                                                                                                                                                                                                                                                                                                                                                                                                                                                                                                                                                                                                                                                                                                                                                                                                                                                                                                                                                                                                                                                                                                                                                                                                                                                                                                                                                                                                                                                                                                                                                                                                                                                  \n",
      " prediction     | 0.0                                                                                                                                                                                                                                                                                                                                                                                                                                                                                                                                                                                                                                                                                                                                                                                                                                                                                                                                                                                                                                                                                                                                                                                                                                                                                                                                                                                                                                                                                                                                                                                                                                                                                                                                                                                                                                                                                                                                                                                                                                                                                                                                                                                                                                                                                      \n",
      "only showing top 1 row\n",
      "\n"
     ]
    }
   ],
   "source": [
    "test_predictions.show(1, truncate=False, vertical=True)"
   ]
  },
  {
   "cell_type": "code",
   "execution_count": 73,
   "metadata": {},
   "outputs": [],
   "source": [
    "predictions_pd = test_predictions.select(\"user_id\", \"item_id\", sf.col(\"probability\").alias(\"purchase\")).toPandas()\n",
    "predictions_pd = predictions_pd.sort_values(by=['user_id', 'item_id'])\n",
    "predictions_pd['purchase'] = predictions_pd['purchase'].apply(lambda x: x[1])\n",
    "predictions_pd.to_csv('lab03.csv', index=False)"
   ]
  },
  {
   "cell_type": "code",
   "execution_count": 74,
   "metadata": {},
   "outputs": [],
   "source": [
    "#sc.stop()"
   ]
  }
 ],
 "metadata": {
  "kernelspec": {
   "display_name": "Python 3",
   "language": "python",
   "name": "python3"
  },
  "language_info": {
   "codemirror_mode": {
    "name": "ipython",
    "version": 3
   },
   "file_extension": ".py",
   "mimetype": "text/x-python",
   "name": "python",
   "nbconvert_exporter": "python",
   "pygments_lexer": "ipython3",
   "version": "3.6.5"
  }
 },
 "nbformat": 4,
 "nbformat_minor": 2
}
